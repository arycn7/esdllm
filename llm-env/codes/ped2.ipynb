{
 "cells": [
  {
   "cell_type": "code",
   "execution_count": 1,
   "id": "0de4ed50-11dc-4066-80f9-9b43af9f3edf",
   "metadata": {},
   "outputs": [
    {
     "name": "stdout",
     "output_type": "stream",
     "text": [
      "Requirement already satisfied: faiss-gpu in /home/achandhok/.local/lib/python3.9/site-packages (1.7.2)\n"
     ]
    }
   ],
   "source": [
    "!pip install faiss-gpu\n"
   ]
  },
  {
   "cell_type": "code",
   "execution_count": 1,
   "id": "ed0fa414-0716-42ac-8ffc-39fe2f556fda",
   "metadata": {},
   "outputs": [],
   "source": [
    "from transformers import AutoTokenizer, AutoModel\n",
    "import torch\n",
    "import csv\n",
    "import os\n",
    "from datetime import datetime\n",
    "from transformers import pipeline\n",
    "from IPython.display import display, HTML, clear_output\n",
    "import ipywidgets as widgets\n",
    "from IPython.display import Markdown\n",
    "import faiss\n",
    "from langchain_text_splitters import RecursiveCharacterTextSplitter\n"
   ]
  },
  {
   "cell_type": "code",
   "execution_count": 2,
   "id": "4a19e8d6-98af-4ea1-a300-2533cdde9c42",
   "metadata": {},
   "outputs": [],
   "source": [
    "import re\n",
    "\n",
    "def split_by_theme(text):\n",
    "    pattern = re.compile(r'(theme_\\w+)\\b') \n",
    "    matches = list(pattern.finditer(text))\n",
    "    theme_texts = {}\n",
    "\n",
    "    for i, match in enumerate(matches):\n",
    "        theme_name = match.group(1)\n",
    "        start_pos = match.end()  \n",
    "        if i + 1 < len(matches):\n",
    "            end_pos = matches[i + 1].start()\n",
    "        else:\n",
    "            end_pos = len(text)\n",
    "        \n",
    "        content = text[start_pos:end_pos].strip()\n",
    "        \n",
    "        theme_texts[theme_name] = content\n",
    "    \n",
    "    return theme_texts\n",
    "\n",
    "\n",
    "def add_theme_to_chunk(chunk, theme_name):\n",
    "    return f'{theme_name}: {chunk}'\n",
    "\n",
    "\n"
   ]
  },
  {
   "cell_type": "code",
   "execution_count": 3,
   "id": "8a67daa8-e8a0-4e0a-9370-1928d7479c28",
   "metadata": {},
   "outputs": [],
   "source": [
    "def process_themes(document):\n",
    "    theme_texts = split_by_theme(document)\n",
    "    all_chunks = []\n",
    "\n",
    "    text_splitter = RecursiveCharacterTextSplitter(chunk_size=1000, chunk_overlap=100)\n",
    "    i=0\n",
    "    for theme, text in theme_texts.items():\n",
    "        \n",
    "        chunks = text_splitter.split_text(text)\n",
    "        for chunk in chunks:\n",
    "            all_chunks.append(add_theme_to_chunk(chunk, theme))\n",
    "        \n",
    "\n",
    "    return all_chunks\n",
    "\n",
    "with open('domainknowledge.txt', 'r') as file:\n",
    "    document = file.read()\n",
    "\n",
    "chunks = process_themes(document)\n",
    "\n",
    "\n",
    "\n",
    "#best working embedder so far is BAAI bge en"
   ]
  },
  {
   "cell_type": "code",
   "execution_count": 4,
   "id": "079c46d6-f9ef-4abf-a76a-5d4891996e1a",
   "metadata": {},
   "outputs": [
    {
     "name": "stdout",
     "output_type": "stream",
     "text": [
      "Index and embeddings saved successfully.\n",
      "Index and embeddings saved successfully.\n"
     ]
    }
   ],
   "source": [
    "import numpy as np\n",
    "import faiss\n",
    "from sentence_transformers import SentenceTransformer\n",
    "import pickle\n",
    "from transformers import BertModel, BertTokenizer\n",
    "from sentence_transformers import SentenceTransformer\n",
    "\n",
    "model = SentenceTransformer('BAAI/bge-large-en-v1.5')\n",
    "domainEmbeddings = model.encode(chunks, normalize_embeddings=True)\n",
    "domainEmbeddings = model.encode(chunks, convert_to_numpy=True).astype(np.float32)\n",
    "\n",
    "dimension = domainEmbeddings.shape[1]  \n",
    "index = faiss.IndexFlatL2(dimension) \n",
    "\n",
    "index.add(domainEmbeddings)\n",
    "\n",
    "faiss.write_index(index, 'faiss_index.index')\n",
    "\n",
    "with open('embeddings.pkl', 'wb') as f:\n",
    "    pickle.dump({'embeddings': domainEmbeddings, 'chunks': chunks}, f)\n",
    "\n",
    "print(\"Index and embeddings saved successfully.\")\n",
    "print(\"Index and embeddings saved successfully.\")\n",
    "\n",
    "\n",
    "\n",
    "\n",
    "\n",
    "\n",
    "\n",
    "\n",
    "\n",
    "\n",
    "\n"
   ]
  },
  {
   "cell_type": "code",
   "execution_count": 5,
   "id": "d88fcc47-c597-4524-92fa-a97c7106c4b4",
   "metadata": {},
   "outputs": [],
   "source": [
    "import faiss\n",
    "import pickle\n",
    "import numpy as np\n",
    "from sentence_transformers import SentenceTransformer\n",
    "\n",
    "index = faiss.read_index('faiss_index.index')  \n",
    "with open('embeddings.pkl', 'rb') as f:\n",
    "    data = pickle.load(f)\n",
    "    embeddings = data['embeddings']\n",
    "    chunks = data['chunks']\n",
    "\n",
    "\n",
    "\n"
   ]
  },
  {
   "cell_type": "code",
   "execution_count": 22,
   "id": "64c65a41-516a-4b31-801d-105cec776c17",
   "metadata": {},
   "outputs": [
    {
     "name": "stdout",
     "output_type": "stream",
     "text": [
      "{'irish', 'aging', 'economic', '30', 'told', 'webinar', 'responsive', 'biceps', 'deepfakes', 'producers', 'weaknesses', 'interactive', 'personalise', 'unnecessary', 'advancements', 'boost', 'codesquire', 'ideation', 'journey', 'association', 'property', 'hence', 'referenced', 'session', 'game', 'unacceptable', 'medical', 'find', 'screen', 'hockly', 'chiu', 'assistive', 'yourselves', 'approaches', 'supporting', 'distinguish', 'logic', 'tips', 'recipes', 'summarise', 'curriculum', 'experiences', 'companies', 'competences', 'synonymous', 'headspace', 'period', 'ultimately', 'universal', 'redefining', 'changing', 'otherwise', 'foster', 'lecture', 'bear', 'imagery', 'discipline', 'enhancement', 'fourth', 'idea', 'preparing', 'risk', 'concept', 'wider', 'lack', 'beforehand', 'seems', 'talk', 'storyboards', 'begun', 'smartwriter', 'chai', 'identifying', 'padlet', 'solve', 'inside', 'trustworthy', 'means', 'suggestion', 'ambiguity', 'considering', 'implementing', 'combination', 'aids', 'enrich', 'medication', 'relate', 'footage', 'appraisal', 'audiocraft', 'affordances', 'advances', 'explaining', 'aias', 'tutorial', 'sciences', 'replace', 'family', 'deploying', 'recognition', 'box', 'ethics', 'dreamstudio', 'organisations', 'protection', 'fake', 'populated', 'second', 'mimic', 'muse', 'easier', 'developer', 'competitor', 'negatives', 'conferencing', '2006', 'definition', 'futonge', 'personas', 'co', 'qqi', 'fatal', 'composition', 'underline', 'don', 'sharing', 'yeah', 'requests', 'kemtai', 'comparison', 'engines', 'speaker', 'years', 'naturally', 'aspects', 'de', 'coherent', 'degrees', 'lighthearted', 'providers', 'struggle', 'biggest', 'lattice', 'numbers', 'replicating', 'sound', 'mpt', 'covid', 'adequate', 'editor', 'generates', 'passive', 'ups', 'establish', 'forethought', 'oneself', 'embeddings', 'competent', 'analogy', 'begins', 'claim', 'essential', 'team', 'objects', 'library', 'stance', 'amounts', 'insisted', 'nonsensical', 'description', 'allow', 'educating', 'late', 'ludo', 'speaking', 'embed', 'hours', 'parameters', 'prototype', 'expanded', 'embedded', 'winning', 'drafting', 'deal', 'post', 'marks', 'presenting', '7th', 'classroom', 'responsible', 'labs', 'handbooks', 'emailed', 'evaluator', 'advice', 'built', 'researchers', 'hearing', 'meet', 'weighting', 'existing', 'predictions', 'home', 'bug', 'future', 'misleadingly', 'descriptions', 'section', 'variations', 'appetite', 'landscape', 'trajectory', 'learnings', 'suggestions', 'immersed', '20', 'feet', 'phrased', 'proposed', 'factor', 'fine', 'under', 'computing', '2021', 'requirement', 'aiva', 'simply', 'developmental', 'maynooth', 'individual', 'selection', 'miss', 'widely', 'four', 'phenomenon', 'owners', 'inaccuracies', 'internal', 'пи', 'viva', 'someone', 'company', 'citation', 'determining', 'forums', 'maximum', 'characteristics', 'loops', 'living', 'exist', 'boxes', 'inclusive', 'last', 'suppose', 'placement', 'interview', 'lots', 'relying', 'bridge', 'immediate', 'inspired', 'short', 'great', 'stay', 'remain', 'whole', '13', 'servants', 'alan', 'junk', 'legitimate', 'guides', 'podcast', 'adobe', 'live', 'free', 'wish', 'comprehension', 'specified', 'tell', 'openai', 'prediction', 'nature', 'picture', 'codes', 'preferences', 'contradictions', 'big', 'brought', 'shaken', 'why', 'everyone', '10', 'food', 'gulumbe', 'hosted', 'cycle', 'guard', 'showcase', 'restricting', 'minute', 'clinician', 'inquiries', 'positive', 'saving', 'authoring', 'inevitably', 'disciplinary', 'transparency', 'pathology', 'occurs', 'rubrics', 'instruction', 'promoting', 'figma', 'reflection', 'sheer', 'wasn', 'lie', 'predictable', 'convergent', 'answered', 'forward', 'diagnostics', 'aims', 'prevention', 'udl', 'babble', 'gwendolyn', 'option', 'voices', 'apparent', 'fixes', 'rerecord', 'almost', 'emphasise', 'physiotherapeutic', 'cognizant', 'responsiveness', 'defence', 'certainly', 'clarification', 'initially', 'areas', 'moving', 'rely', 'realism', 'practical', 'worlds', 'reclaim', 'shortening', 'insulated', 'actionable', 'bloom', '1980s', 'optional', 'disability', 'sessions', 'highlight', 'computers', 'integrating', 'look', 'discursive', 'vital', 'appreciated', '1970s', 'adopted', 'advertise', 'photorealistic', 'probably', 'matter', 'conventional', 'conversational', 'bid', 'dialogue', 'regarding', 'correcting', 'marmalade', 'committed', 'regression', 'scheduling', 'purposefully', 'stereotypes', 'underscores', 'coined', 'hesitant', 'inductive', 'empathize', 'experimentation', 'mathematics', 'largely', 'attendees', 'upskilling', 'setting', 'summarising', 'dye', 'until', 'cyber', 'cohort', 'anyone', 'obvious', 'regulations', 'curiosity', 'telegraph', 'aim', 'disclosed', 'far', 'proofing', 'wig', 'ultra', 'tasked', 'employment', 'opted', 'anthology', 'paragraph', 'sensei', '81', 'generalise', 'professor', 'justify', 'discussed', 'attributes', 'instead', 'ask', 'concise', 'give', 'commission', 'chunks', 'apis', 'today', 'devices', 'speech', 'sudden', 'commercial', 'embrace', 'summarization', 'guided', 'furze', 'fellow', 'simpler', 'recruit', 'procedural', 'publisher', 'submitted', 'added', 'prowritingaid', 'start', 'ensured', 'colour', 'suited', 'called', '12', 'creators', 'number', 'continue', 'studies', 'completeness', 'suggested', 'impractical', 'incorporate', 'bias16', 'ineffective', 'cloning', 'automatic', 'receiving', 'pilot', 'spanning', 'stated', 'node', 'queries', 'ibm', 'patient', 'allows', 'attack', 'check', 'catering', 'meaning', 'digestible', 'ca259', 'compliance', 'forming', 'emphasize', 'tutoring', 'conversation', 'reliant', 'consultation', 'encourage', 'constructivist', 'framework', 'grammatical', 'reflecting', 'experts', 'otter', 'swaps', 'revealed', 'overcome', 'hepi', 'historical', 'personalisation', 'investigate', 'patientnotes', 'lead', 'transdisciplinary', 'commerce', 'allies', 'agents', 'didn', 'thinker', 'develops', 'heavy', 'topaz', 'teams', 'base', 'actions', 'refine', 'introduction', 'evidencing', 'reorder', 'taxonomy', 'kings', 'eager', 'continuous', 'factors', 'consumption', 'suits', 'tokens', 'lesser', 'yet', 'gonna', 'transform', 'misinformation', 'patterns', 'processed', 'beyond', 'proof', 'identify', 'inputting', 'subjective', 'integrated', 'say', 'who', 'meant', 'developments', 'darragh', 'saying', 'grading', 'academi', '49', 'equity', 'trainings', 'crawford', 'neural', 'urges', 'heavily', 'brings', 'wellbeing', 'promote', 'respondents', 'consequently', 'submission', 'cotton', 'copyright', 'overall', 'effectively', 'vague', 'security', 'hope', 'threatens', 'permitting', 'highlighting', 'threat', 'beliefs', 'communicate', 'modified', 'recently', 'style', 'animated', 'appendix', 'broadly', 'appropriateness', 'inform', 'lectures', 'restoring', 'started', 'ali', '51', 'exactly', 'ucd', 'highlights', 'grade', 'fosters', 'hi', 'illustrates', 'detailing', 'threats', 'date', 'completed', 'difficult', 'facilitation', 'intend', 'rights', 'claims', 'command', 'shouldn', 'contributor', 'insights', 'interconnected', 'permissive', 'systematic', 'webquest', 'removing', 'teamed', 'interpretation', 'nowadays', 'realised', 'critique', 'careers', 'proceeded', 'limited', 'doubt', 'ready', 'become', 'refining', 'techniques', 'allowance', 'abilities', 'previously', 'truthfulness', 'hello', 'gemini', 'program', 'rapidly', 'plans', 'decide', 'player', 'scenes', 'voce', 'kisita', 'cogram', 'decades', 'directing', 'strictly', 'syncing', 'times', 'visually', 'effective', 'manage', 'capable', 'highly', 'bad', 'london', '24', 'attention', 'performing', 'pedagogical', 'signapse', 'layers', 'chose', 'afterwards', 'embedding', 'viewed', 'headlines', 'enabled', 'automating', 'conscious', 'mitigate', 'scenario', 'never', 'propagation', 'alter', 'authorised', 'spectrum', 'movements', '41', 'testing', 'cpd', 'dr', 'early', 'farrell', 'coming', 'learned', 'publishing', 'supportive', 'courses', 'benefits', 'mentioned', 'automatically', 'furthermore', 'brief', 'lin', 'repetition', 'structuring', 'interesting', 'breeches', 'covered', 'studying', 'boardgame', 'poorly', 'among', 'evolve', 'mealmate', 'populates', 'enhance', 'discussing', 'noted', 'carefully', 'specialised', 'subset', 'draughts', 'xr', 'generator', 'than', 'opens', 'augmented', 'focusing', 'questioned', 'trialing', 'nice', 'fabricated', 'mandatory', 'permit', 'adopter', 'longer', 'him', 'networking', 'sensitivity', 'worth', 'stimulus', 'cheating', 'commentary', 'challenging', 'reach', 'footprints', 'inaccurate', '2022', 'turns', 'pressure', 'interfaces', 'gives', 'outcome', 'aid', 'distributions', 'power', 'music', 'tuning', 'llms', 'specifically', 'significant', 'offer', 'insightful', 'physiotherapists', 'links', 'science', 'universities', 'recognised', 'maintain', 'suggest', 'societal', 'continually', 'covert', 'motorica', 'errors', 'oecd', 'powered', 'sample', 'comparative', 'heygen', 'particularly', 'technica', 'mixed', 'diagrams', 'teacher', 'perception', 'demarcations', 'noise', 'experiment', 'aiding', 'problem', 'pandemic', 'summaries', 'exam', 'train', 'checked', 'arrive', '142', 'caught', 'easily', 'hit', 'biased', 'self', 'warning', 'starts', 'everybody', 'enough', 'showed', 'came', 'gender', 'term', 'shares', 'schalk', 'collaborating', 'gather', 'lip', 'near', 'recent', 'want', 'gap', 'join', 'cohere', 'enjoyed', 'few', 'emotion', 'ana', 'accelerating', 'clarity', 'expectations', 'career', 'vector', 'commonsense', 'earlier', 'produced', 'arise', 'formative', 'shape', 'ones', 'logs', 'imagen', 'either', 'struggles', 'said', 'invigilated', 'knew', 'right', 'competition', 'disrupt', 'else', 'shocked', 'attempting', 'deepmotion', 'suite', 'agreement', 'just', 'criteria', 'searching', 'addie', 'answers', 'violations', 'dall', 'custom', 'describes', 'leave', 'happy', 'occurrence', 'checking', 'adopting', 'adaptation', 'communicated', 'squatted', 'forth', 'camera', 'contents', 'users', 'boundaries', 'samuel', 'views', 'words', 'associate', 'theme_two', 'private', 'hoc', 'opposed', 'tailored', 'society', 'exploration', 'message', 'ann', 'benchmarks', 'categorised', 'thanks', 'classification', '730', 'transferrable', 'justifiable', 'fields', 'recap', 'takeaways', 'receives', 'applying', 'explanations', 'leading', 'familiar', 'translating', 'vast', 'considered', 'quite', 'translational', 'enter', 'assume', 'certain', 'spread', 'modifying', 'languages', 'cannot', 'concrete', 'larger', 'door', 'led', 'incorporated', 'local', 'control', 'race', 'get', 'products', 'proficiency', 'express', 'fictional', 'cumulatively', 'unlikely', 'accidental', 'became', 'damaged', 'ok', 'overwhelmingly', 'permissiveness', 'separates', 'sparked', 'leverage', 'formation', 'narrative', 'bounds', 'advocated', 'sycophantic', 'mix', 'dcu', 'evaluation', 'interact', 'meaningful', 'ago', 'restore', 'cultural', 'log', 'statistics', 'identities', 'weeks', 'assess', 'personalization', 'realisation', 'conversations', 'column', 'wow', 'reflects', 'codex', 'lessons', 'watson', 'theme_three', 'snooze', 'planning', 'elements', 'orange', 'helpful', 'intended', 'century', '7b', 'applicable', 'volume', 'complexity', 'guardian', 'trails', 'truth', 'breakthrough', 'connected', 'operations', 'violate', 'actively', 'diversity', 'share', 'iteration', 'third', 'ensures', 'impressively', 'working', 'jason', 'manipulation', 'continuously', '28', 'assistant', 'canva', 'come', 'empower', 'soundraw', 'upload', 'guide', 'interestingly', 'trinity', 'excel', 'past', 'plan', 'type', 'coding', 'onto', 'acknowledged', 'paradigms', 'unproductive', 'humans', 'majority', 'conundrum', 'enhanced', 'determine', 'testimonials', 'apprenticeship', 'turning', 'clarify', 'medicine', 'informing', 'vs', 'empirical', 'unrealistic', 'difficulties', 'fore', 'alignment', 'overwhelming', 'partner', 'draft', 'drastically', 'illustrative', 'improvements', 'art', 'functionalities', 'designer', 'photos', 'visualisation', 'interpreting', 'files', 'crafting', 'usually', 'avatar', 'moment', 'participants', 'pleasantness', 'even', 'intellectual', 'integration', 'viable', 'countries', 'phrases', 'interactions', 'mosaicml', 'redundant', 'still', 'designing', 'systemic', 'decoders', 'summative', 'deployed', 'resolution', 'two', 'delivered', 'upskill', 'cohorts', 'evolving', 'relation', '70', 'quillbot', 'unity', 'layered', 'contribute', 'projects', 'forbes', 'architect', 'belief', 'analysing', 'importance', 'peer', 'constitutes', 'schemes', 'recognise', 'awareness', 'lens', 'points', 'network', 'regard', 'wysa', 'sphere', 'imputation', 'open', 'inputs', 'adapter', 'justification', 'dialogues', 'powerful', 'perceptions', 'gupta', 'repetitive', 'nevertheless', 'validating', 'having', 'forde', 'store', 'equal', 'adaptiveness', 'perkins', 'everyday', 'reference', 'responding', 'needs', 'centre', 'fitbod', 'structure', 'blurred', 'okay', 'motion', 'absolutely', 'thing', 'couldn', 'inputted', 'add', 'central', 'includes', 'recommend', 'whatever', 'indiscriminate', 'alternatives', 'voiceovers', 'aware', 'passes', 'engaging', 'becomes', 'document', 'chance', 'examiner', 'hadn', 'incorporation', 'refinement', 'iterative', 'maybe', 'theory', 'comments', 'during', 'oh', 'prosthetic', 'rather', 'made', 'textured', 'formatting', 'dual', 'flag', 'implicit', 'exercises', 'gathered', 'medpalm', 'judge', 'logged', 'acquire', 'transcripts', 'competence', 'expands', 'mentors', 'edit', 'literally', 'effect', 'microsoft', 'psychology', 'van', 'steps', 'multi', 'achievement', 'accessible', 'provoke', 'related', 'ratings', 'incorrect', 'motivated', 'nodes', 'researcher', 'achieving', 'adjustments', 'disclosure', 'middle', 'subscriptions', 'agenthost', 'further', '200', 'facilitate', 'reached', 'oguz', 'ubiquitous', 'emails', 'read', 'controversial', 'disciplines', 'profoundly', 'constantly', 'diagnose', 'req', 'validity', 'inclusion', 'collaborate', 'variety', 'chosen', 'ageing', 'significantly', 'alternative', 'decided', 'safety', 'position', 'traditional', 'comparing', 'becoming', 'figure', 'source', 'architecture', 'creatively', 'together', 'defined', 'board', 'found', 'codewhisperer', 'moreover', 'modelling', 'manually', 'performs', 'engage', 'street', 'material', 'simulated', 'helping', 'appropriate', 'behave', 'mathematical', 'listen', 'hour', 'unclear', 'hackers', 'powering', 'messaging', 'playing', 'artistic', 'sales', 'consumers', 'upholding', 'interaction', 'literate', 'reliable', 'prepare', 'skilled', 'static', 'jisc', 'literacies', '21st', 'checkers', 'curl', 'recommended', 'total', 'troubleshooting', 'typically', 'interface', 'programmatic', 'toward', 'referring', 'detected', 'since', 'clicked', 'contribution', 'permitted', 'conferences', 'scientists', 'critiquing', 'thiga', 'customised', 'division', 'concretely', 'due', 'community', 'encountered', 'efficiency', 'subject', 'thoughtfully', 'logical', 'vr', 'entertainment', 'dubbing', 'per', 'plausible', 'elena', 'learnt', 'posed', 'translate', 'corporate', 'neuron', 'settings', 'instructions', 'indicates', 'cited', 'age', 'fora', 'prompting', 'somebody', 'take', 'optimized', 'intimidated', 'looking', 'roe', 'intention', 'instructor', 'originally', 'autonomy', 'suitable', 'imaging', 'artwork', 'focuses', 'sense', 'oregon', 'websites', 'learn', 'conflicting', 'list', 'bing', 'bringing', 'passed', 'day', 'staging', 'included', 'originality', 'studio', 'dataset', 'reduce', 'action', 'assistants', 'greatest', 'linear', 'concern', 'previous', 'outlines', 'bibliometric', 'preparations', 'concerning', 'introduced', 'valuable', 'advised', 'tabnine', 'outdated', 'integrate', 'reasons', 'meanings', 'commitments', 'dudeney', 'theme', 'articles', 'latest', 'perceived', 'adding', 'structured', 'authentic', 'cleverest', 'couple', 'inappropriate', 'empathy', 'ambiguous', 'belonging', 'pronunciations', 'avatars', 'youtube', 'god', 'opacity', 'sure', 'captions', 'scientific', 'technological', 'communicating', 'sized', 'subsequently', 'possibilities', 'above', 'considerations', 'pictory', 'employ', 'bypass', 'synthesis', 'opinions', 'stages', 'performed', 'rudolph', 'range', 'recognises', 'assisting', 'hand', 'interacting', 'misinterpretation', 'address', 'rehashing', 'explained', 'remit', 'impressions', 'centres', 'begin', 'major', 'makrakis', 'evaluating', 'outwit', 'five', 'leung', 'native', 'cuisle', 'confidently', 'responsibly', 'evolution', 'narratives', 'capture', 'credit', 'hs', 'value', 'intersection', 'ensuring', 'refer', 'felt', 'scan', 'shift', 'cv', 'functions', 'connectivity', 'generalised', 'news', 'gpts', 'sustainable', 'admits', 'modify', 'emerged', 'serious', 'availability', 'styles', 'predict', 'cases', 'cultivate', 'revision', 'combined', 'copyrights', 'incorporating', 'supported', 'tune', 'capacity', 'kinds', 'elsewhere', 'diagnosis', 'enabling', 'verbally', 'rapid', 'always', 'hierarchical', '1955', 'fairness', 'stakeholder', '21', 'verify', 'involved', 'beats', 'emergence', 'penalise', 'predictive', 'sometimes', 'stop', 'set', 'visualisations', 'dalle', 'activity', 'significance', 'representation', 'adopt', 'governance', 'era', 'finally', 'discriminate', '65', 'hieratical', 'divergent', 'end', 'authenticity', 'detection', 'podcasts', 'processes', 'put', 'recorded', 'raising', 'popularity', 'updated', 'low', 'texture', 'acceptable', 'problems', 'speakers', 'sequences', 'frameworks', 'scaffolding', 'describe', '8b', 'amid', 'unfortunately', 'reliance', 'cohesion', 'chat', 'lockdowns', 'paid', 'scope', 'secure', 'informed', 'strengths', 'asset', 'performance', 'measures', 'transitional', 'instructional', 'long', 'opposing', 'satisfactorily', 'vary', 'internet', 'leads', 'once', 'consists', 'exploring', 'french', 'sectors', 'cognitive', 'independent', 'transformer', 'crucial', 'competencies', 'magerko', 'zoom', 'reflections', 'touch', 'debugging', 'dependence', 'outlining', 'd2l', 'adjust', 'specify', 'hypotheses', 'traffic', 'agreeable', 'object', 'customer', 'yes', 'follows', 'allowed', 'job', 'productively', 'technical', 'violating', 'clearly', 'decisions', 'handle', 'indicated', 'ranging', 'ambiguities', 'february', 'papers', 'quest', 'myself', 'sake', 'english', 'point', 'shared', 'possibly', 'goals', 'drug', 'happened', 'explain', 'nearby', 'opening', 'treated', 'evidence', 'contextually', 'mutual', 'redesign', 'political', 'attempt', 'vlookup', 'talking', 'refined', 'procedurally', 'strong', 'people', 'industries', 'aligned', 'units', 'cognisant', 'environments', 'resulted', 'extrapolating', 'strategies', 'proactive', 'persist', 'department', 'deliver', 'logos', 'unethically', 'syntactical', 'parts', 'notion', 'pace', 'putting', 'coherence', 'reasoning', 'initial', 'talent', 'etc', 'gain', 'involves', 'diagram', 'remember', 'manner', 'behaves', 'encompasses', 'functionality', 'indeed', 'ppt', 'simulations', 'icons', 'produces', 'quantity', 'exploited', 'contrast', 'operate', 'goal', 'soundful', 'meta', 'eight', 'analyses', 'suggests', 'unchecked', 'walkthrough', 'orna', 'elapsed', 'classrooms', 'characters', 'record', 'catastrophe', 'consideration', 'simulates', 'challenged', 'webpages', 'sounding', 'categories', 'neurodiversity', 'emphasis', 'pieces', 'looked', 'depends', 'resolving', 'sets', 'horizontal', 'national', 'apply', 'extensive', 'pretending', 'reframed', 'azure', 'front', 'appear', 'stock', 'thorough', 'applied', 'core', 'honesty', 'unseen', 'deeper', 'lines', 'writes', 'audo', 'commonly', 'soon', 'align', 'policy', 'agreed', 'giving', 'too', 'resource', 'versions', 'collaboration', 'increasingly', 'challenge', 'extend', 'less', 'organisation', 'draw', 'environmental', 'reports', 'creative', 'theme_five', 'dubreil', 'contextual', 'undermined', 'actually', 'something', 'colleagues', 'luke', 'expressed', 'explicit', 'neurons', 'fact', 'recommendations', 'offensive', 'red', 'full', 'efficient', 'racial', 'star', 'activation', 'advancement', 'assessing', 'reorienting', 'stability', 'event', 'supervised', 'offerings', 'beneficial', 'algorithms', 'try', 'potentially', 'incredible', 'although', 'correction', 'behalf', 'outside', 'pytorch', 'sensationalist', 'nvidia', 'amazon', 'fail', 'legal', 'oncologist', 'comprehend', 'gaze', 'imaginative', 'missing', 'procedures', 'combining', 'sign', 'relevant', 'temporary', '700', 'consciousness', 'helped', 'fabrication', 'fair', 'disconnected', 'gave', 'prejudices', 'resulting', 'hinder', 'reason', 'lodge', 'relating', 'attacks', 'bookended', 'contentious', 'debate', 'achieve', 'reviewed', 'chief', 'successful', 'infers', 'gaining', 'fast', 'round', 'harvard', 'campus', 'behaviour', 'smart', 'networks', 'truly', 'facilitators', 'answering', 'subsequent', 'despite', 'normally', 'credibility', 'vouched', 'levels', 'broad', 'cause', 'swapping', 'preceding', 'illustrate', 'curls', 'later', 'assigned', 'objectives', 'encoders', 'completion', 'lower', 'solutions', 'format', 'limits', 'texts', 'murray', 'strategy', 'show', 'green', 'searches', 'extensively', 'token', 'educator', 'entrepreneurship', 'half', 'depending', 'personalized', 'me', 'rise', 'divisions', 'lmss', 'harmful', 'collecting', 'hance', 'rectify', 'analytics', 'safe', 'ally', 'known', 'solving', 'hallucinations', 'imperfect', 'presentations', 'novel', 'generally', 'spoke', 'tried', 'games', 'bit', 'workforce', 'elicit', 'aftermath', 'prior', 'additional', 'money', 'paraphrasing', 'definitions', 'confusing', 'notebooklm', 'fixing', 'outta', 'methods', 'building', 'engineering', 'three', 'advocate', 'encounter', 'habit', 'cascadeur', 'results', 'feel', 'others', 'contexts', 'poe', 'impair', 'global', 'kind', 'communities', 'cross', 'changed', 'afford', 'ferrara', 'roleplaying', 'fully', 'evaluated', 'interchangeably', 'groups', 'filtered', 'anyway', 'underpinning', 'influence', 'vulnerable', 'terminology', 'structures', 'binary', 'path', 'friendly', 'rabbit', 'along', 'mccarthy', 'modern', 'recordings', 'pedagogy', 'personalising', 'highest', 'conceptual', 'misconduct', 'standards', 'break', 'institution', 'extent', 'whether', 'redefined', 'involve', 'taking', 'collaboratively', 'equality', 'define', 'popular', 'commitment', 'learner', 'developers', 'provides', 'variant', 'superseded', 'heard', 'carried', 'leveling', 'smeaton', 'actor', 'deployment', 'branch', 'correct', 'link', 'philosophy', 'fostering', 'area', 'hitherto', 'lacking', 'underlying', 'themed', 'angles', 'growing', 'effects', 'undergraduate', 'seven', 'perform', '787', 'phrasee', 'tutorials', 'dino', 'anthropic', 'listed', 'proofed', 'seemingly', 'simple', 'presence', 'revisited', 'healthcare', 'communication', 'github', 'extension', 'decontextualised', 'delivery', 'compare', 'regulatory', 'automation', 'recreation', 'finish', 'raised', 'pointed', 'fun', 'listening', 'european', 'extensions', 'amongst', 'basics', 'uses', 'safeguards', 'pressures', 'similar', 'implement', 'overly', 'curricula', 'paradigm', 'balance', 'dealing', 'flowing', 'took', 'debating', 'king', 'intelligent', 'conducive', 'knowledgeable', 'extract', 'exploratory', 'comprehensive', 'emotions', 'submissions', 'welcome', 'usability', 'arthur', 'synoptic', 'specialising', 'layer', 'ace', '29', 'got', 'outset', 'programs', 'handbook', 'mind', 'given', 'law', 'imitating', 'optimising', 'cheat', 'run', 'lab', 'focused', 'changes', 'role', 'diffusion', '16', 'acar', 'bert', 'mubert', 'produce', 'driven', 'calculated', 'glance', 'mechanisms', 'horrible', 'moises', 'sector', 'invaluable', 'ethically', 'benefit', 'rajaraman', 'reproduce', 'reported', 'pedagogies', 'google', 'constructive', 'scale', 'compromised', 'delivering', 'hleg', 'ourselves', 'structural', 'features', 'immediately', 'hands', 'unequal', 'translator', 'stage', 'logoai', 'punctuation', 'requiring', 'exercise', 'service', 'productivity', 'sentence', 'transcript', 'wrong', 'pegrum', 'another', 'criticised', 'entirely', 'boss', 'engine', 'solely', 'body', 'build', 'graphics', 'concerned', 'reflective', 'topics', 'bicep', 'deliberately', 'fit', 'staffs', 'materials', 'expression', 'towards', 'refocus', 'designs', 'documents', 'explanation', 'demonstrate', 'saw', 'comforting', 'cons', 'medieval', 'msc', 'huge', 'innovative', 'arguments', 'heis', 'general', 'utilise', 'awarded', 'construction', 'improved', 'baseline', 'release', 'spans', 'conduct', 'perspective', 'toolsin', 'falsify', 'several', 'physiotherapy', 'learns', 'streamline', 'implementation', 'stimulate', 'independently', 'citations', 'taken', 'danger', 'form', 'failed', 'issues', 'factual', 'regulate', 'pervasive', 'machines', 'original', 'write', 'centred', 'directed', 'offered', 'against', 'confident', 'skill', 'pass', 'direct', 'tested', 'influencing', 'therefore', 'disseminated', 'specialise', 'biases', 'adapted', 'monitoring', 'background', 'production', 'quickly', 'feeling', 'liminal', 'quicker', 'confirmed', 'anns', 'documented', 'feature', 'assisted', 'mechanics', 'diverse', 'durham', 'weren', 'secondly', 'interpret', 'tuned', 'dept', 'fulfil', 'inequity', 'interactivity', 'spelling', 'pre', 'harm', 'emphasises', 'currently', 'seeking', 'bolster', 'unit', 'covers', 'privacy', 'according', 'demonstrating', 'trying', 'argues', 'ran', 'assignments', 'scores', 'productive', '30th', 'lecturer', 'element', 'grammarly', 'choice', 'mean', 'immerse', 'already', 'execute', 'introducing', 'city', 'likely', 'staged', 'qs', 'thinks', 'additionally', 'asynchronously', 'novelty', 'response', 'outlined', 'blackboard', 'increasing', 'creates', 'toxicity', 'bring', 'though', 'verification', 'inequities', 'shows', 'thematic', 'lacks', 'sequence', 'slides', 'appendices', 'select', 'contravene', 'personal', 'descript', 'believe', 'spreading', 'active', 'transferred', 'equitable', 'watching', 'clinicians', 'triceps', 'dumbest', 'adapt', 'vulnerability', 'described', 'positives', 'edu', 'qualitative', 'lecturers', 'discursively', 'mock', 'accurately', 'deployers', 'grammatically', 'interior', '000', 'corroborate', 'malware', 'taught', '4o', 'rush', 'assist', 'seeks', 'single', 'nor', 'emerging', 'raise', 'robustness', 'longstanding', 'submitting', 'effectiveness', 'reinforcement', 'space', 'version', 'identified', 'lifelong', 'possibility', 'zaphir', 'tend', 'tiers', 'independence', 'daily', 'non', 'jurassic', 'assignment', 'alcohol', '2017', 'infographic', 'fidelity', 'cosmetic', 'especially', 'synthetic', 'theme_four', 'payment', '2020', 'stripling', 'authority', 'equipping', 'obviously', 'discovering', 'artifacts', 'et', 'interpretability', 'necessitates', 'innovation', 'social', 'move', 'entire', 'intentionally', 'irrelevant', 'union', 'emphasizes', 'every', 'rté', 'guiding', 'part', 'values', 'little', 'john', 'state', 'evident', 'overarching', 'funding', 'rendered', 'theme_one', 'below', 'expected', 'foundation', 'perhaps', 'squat', 'plunge', 'abstract', 'duolingo', 'ireland', 'll', 'connect', 'off', 'patients', 'apps', 'examine', 'balancing', 'sought', 'options', 'encouraged', 'financial', 'vision', 'exhibit', 'again', 'capitalist', 'consuming', 'email', 'generalisation', 'submit', 'interest', 'pick', 'respond', 'instructed', 'surpassed', 'choices', 'international', 'textual', 'controlled', 'visla', 'knowing', '50', 'positioned', 'voice', 'differential', 'greatly', 'asking', 'appraise', 'completing', 'responsibility', 'eu', 'inspiration', 'plagiarism', 'drafts', 'judgements', 'producing', 'let', 'thrive', 'result', 'genuine', 'practicality', 'ebsynth', 'dilemmas', 'basis', 'hidden', 'go', 'administrative', 'launch', 'lo', 'lamda', 'preparation', 'aspect', 'carbon', 'accurate', 'indicating', 'manufacturing', 'note', 'individually', 'engineered', 'peers', 'cultivating', 'whilst', 'authors', 'populate', 'increase', 'notes', 'assumptions', 'principles', 'offers', 'ethnographers', 'mention', 'cut', 'proofreading', 'provision', 'represent', 'facilitated', 'overgeneralization', 'translation', 'progress', 'software', 'chatbot', 'please', 'project', 'suggesting', 'throughout', 'adjusted', 'depended', '53', 'cool', 'adoption', 'accepting', 'target', 'editorial', 'programme', 'stressed', 'requirements', 'massive', 'firefly', 'outline', 'roles', 'engaged', 'physiotherapist', 'energy', 'idealised', 'architectures', 'odds', 'infringements', 'situations', 'prototyping', 'phenomena', 'dangers', 'instances', 'week', 'semester', 'series', 'faculty', 'rules', 'unauthorised', 'inherent', 'dimensions', 'slower', 'detailed', 'introduce', 'varying', 'nain', 'survey', 'criticism', 'conducted', 'summer', 'flags', 'streaming', 'mental', 'does', 'advantages', 'addressed', 'properly', 'skewed', 'facebook', 'inco', 'operation', 'management', 'principled', 'detect', 'altered', 'institutions', 'registering', 'interpretations', 'college', 'accomplish', 'limerick', 'physical', 'max', 'communications', 'collaborative', 'unesco', 'debates', 'constraints', 'optimal', 'arms', 'planned', 'followed', 'common', 'diet', 'institutional', 'lubowitz', 'report', 'bite', 'validation', 'presented', 'virtual', 'happens', 'enriching', 'midjourney', 'button', 'essays', 'augment', 'agency', 'following', 'accounts', 'misuse', 'ignore', 'piece', 'function', 'analysed', 'tailoring', 'requested', 'thirdly', 'struggling', 'false', 'increased', 'treatments', 'site', 'accountability', 'fresh', 'forms', 'away', 'stable', 'sourcing', 'mark', 'advanced', 'flexibility', 'reviewing', 'analyse', 'relationships', 'participation', 'invented', 'themselves', 'superficial', 'workarounds', 'picked', 'ul', 'obtained', 'meetings', 'face', 'institute', 'enable', 'confusion', 'ranked', 'senators', 'strengthen', 'spot', 'namely', 'ai21', 'choosing', 'mccashin', 'vulnerabilities', 'captioning', 'costs', 'finished', 'diagnoses', 'campaigns', 'situation', 'gathertown', 'greater', 'wide', 'back', 'writers', 'llm', 'vocational', 'inquiry', 'targeted', 'web', 'signal', 'product', 'regulation', 'domain', 'mislead', 'buddy', 'sleep', 'modes', 'pros', 'passively', 'november', 'remove', 'introductory', 'acknowledging', 'noting', 'members', 'advocating', 'act', 'brain', 'longitudinal', 'light', 'struggled', 'january', 'interested', 'unique', 'methodologies', '2014', 'scenarios', 'realistic', 'scans', 'began', 'sounds', 'neither', 'duration', 'proposes', 'kingship', 'closely', 'revise', 'desktop', 'keep', 'plagiarise', 'represented', 'signals', 'surprised', 'surrounding', 'field', 'depth', 'person', 'coordinators', 'directions', 'efficiently', 'require', 'starting', 'thought', 'defines', 'opportunity', 'seen', 'spoken', 'ml', 'tiktok', 'bsc', 'references', 'yourself', 'prepared', 'purposes', 'presents', 'collaborator', 'existed', 'accessibility', 'characterise', 'addition', 'concerns', 'care', 'moderated', 'save', 'irfan', 'advent', 'autonomous', 'copilot', 'excited', 'cramming', 'broader', '1950s', 'adaptive', 'plagiarising', 'released', 'black', 'serve', 'processing', 'sources', 'graduates', 'differ', 'didactic', 'requires', 'reminders', 'done', 'thereby', 'least', 'conclusions', 'answer', 'user', 'intellectuals', 'attend', 'best', 'uk', 'speed', 'straight', 'gained', 'life', 'getting', 'generic', 'improve', 'ever', 'anonymised', 'oversight', 'bot', 'dispute', 'deploy', 'dangerous', 'snapshot', 'clarifies', 'impressed', 'offering', 'exams', 'posts', 'economy', 'refers', 'alongside', 'did', 'rest', 'evolved', 'tree', 'stating', 'fill', 'datasets', 'linked', 'referred', 'sustainability', 'alert', 'emerges', 'transformative', 'prime', 'poor', 'essay', 'days', 'works', 'maddi', 'versus', 'stakeholders', 'down', '11', 'shifted', 'movement', 'pause', 'mainstream', 'blenderbot', 'rijmenam', 'discrimination', 'tomorrow', 'same', 'statistical', 'lives', 'steveai', 'performable', 'spike', 'needed', 'perspectives', 'accordance', 'send', 'linguistic', 'character', 'doing', 'optimally', 'beginning', 'dependency', 'literature', 'grammar', 'inspirations', 'instance', '150', 'leon', 'producer', 'summary', 'discovery', 'history', 'examining', 'necessarily', 'claude', 'formats', 'expertise', 'flunks', 'oral', 'regularly', 'attractive', 'inadvertent', 'loop', 'lesson', 'relationship', 'confidence', 'defining', 'purport', 'here', 'provided', 'supplementary', 'fakes', 'he', 'ar', 'dynamic', 'accordingly', 'consisting', 'examinations', 'thank', 'trained', 'name', 'artefacts', 'consistent', 'detail', 'realize', 'trust', 'rubric', 'collected', 'worked', 'return', 'mentioning', 'aren', 'written', 'weekly', 'incrementally', 'spent', 'themes', 'stereotyping', 'undermining', 'says', 'stem', 'visualeyes', 'programming', 'monitor', 'announced', 'behind', 'necessary', 'issue', 'nuanced', 'persons', 'reproducing', 'possible', 'ad', 'pair', 'statements', 'equipped', 'impressive', 'reducing', 'change', 'depend', 'conceptualize'}\n",
      "['physiotherapist']\n",
      "Rarest words in the query: ['physiotherapist']\n",
      "Matching indices: [132, 133, 130]\n"
     ]
    }
   ],
   "source": [
    "\n",
    "from whoosh.fields import Schema, TEXT, NUMERIC\n",
    "from whoosh.index import create_in\n",
    "from whoosh.qparser import QueryParser\n",
    "from whoosh import scoring\n",
    "from whoosh.analysis import StemmingAnalyzer\n",
    "from io import StringIO\n",
    "import tempfile\n",
    "import shutil\n",
    "import os\n",
    "\n",
    "def search_chunks(chunks, query_str):\n",
    "    schema = Schema(idx=NUMERIC(stored=True), content=TEXT(stored=True, analyzer=StemmingAnalyzer()))\n",
    "    tempdir = tempfile.mkdtemp()\n",
    "    try:\n",
    "        ix = create_in(tempdir, schema)\n",
    "        writer = ix.writer()\n",
    "        \n",
    "        for i, chunk in enumerate(chunks):\n",
    "            writer.add_document(idx=i, content=chunk)\n",
    "        writer.commit()\n",
    "        \n",
    "        \n",
    "        with ix.searcher(weighting=scoring.BM25F()) as searcher:\n",
    "            parser = QueryParser(\"content\", schema=ix.schema)\n",
    "            query = parser.parse(query_str)\n",
    "            results = searcher.search(query, limit=None)\n",
    "            return [hit['idx'] for hit in results]\n",
    "    finally:\n",
    "        shutil.rmtree(tempdir)\n",
    "\n",
    "from sklearn.feature_extraction.text import TfidfVectorizer\n",
    "import numpy as np\n",
    "query = \" physiotherapist \"\n",
    "vectorizer = TfidfVectorizer()\n",
    "tfidf_matrix = vectorizer.fit_transform([document])\n",
    "feature_names = np.array(vectorizer.get_feature_names_out())\n",
    "tfidf_scores = tfidf_matrix.toarray()[0]\n",
    "threshold = np.percentile(tfidf_scores, 88)\n",
    "rarest_words = set(feature_names[tfidf_scores <= threshold])\n",
    "print(rarest_words)\n",
    "query_words = query.strip().lower().split()\n",
    "print(query_words)\n",
    "rare_query_words = [w for w in query_words if w in rarest_words]\n",
    "matching_indices = []\n",
    "for word in rare_query_words:\n",
    "    indices = search_chunks(chunks, word)\n",
    "    matching_indices.extend(indices)\n",
    "print(\"Rarest words in the query:\", rare_query_words)\n",
    "print(\"Matching indices:\", matching_indices)\n",
    "\n",
    "\n"
   ]
  },
  {
   "cell_type": "code",
   "execution_count": 18,
   "id": "b5bba0b2-6e16-4e41-9d21-31731489d9f6",
   "metadata": {},
   "outputs": [],
   "source": [
    "def remove_duplicates(lst):\n",
    "    seen = set()\n",
    "    result = []\n",
    "    for num in lst:\n",
    "        if num not in seen:\n",
    "            result.append(num)\n",
    "            seen.add(num)\n",
    "    return result"
   ]
  },
  {
   "cell_type": "code",
   "execution_count": 19,
   "id": "547183b6-0341-46b0-8263-408ab87e4e8e",
   "metadata": {},
   "outputs": [
    {
     "name": "stdout",
     "output_type": "stream",
     "text": [
      "___\n",
      "[125, 69, 0, 67, 10]\n",
      "___\n",
      "[125, 69, 0, 67, 10]\n",
      "Query: What was the name of the professor of physiotherapy\n",
      "\n",
      "Top 3 retrieved chunks:\n",
      "- theme_five: to empathize with their perspectives and bridge the gap between us, the educators and them, the students. By actively listening to their experiences, we can continue to refine and improve our teaching and assessment to better serve the educational journey. In response to an appetite for professional development on generative AI, colleagues from UL Library, the Centre for Transformative Learning, Academic Integrity, and the Information Technology Division, designed and developed a five day online learning experience open to staff from all divisions across the university. Our course called Let's Talk Gen AI ran over a five day period in May 2024. Each day of the course was aligned with a different theme, Gen AI Work, Gen AI for teaching and assessment, Gen AI for research. The course was bookended with an introductory day at the start and a reflections day at the end. Although we discussed a variety of tools across the different days, for teaching and assessment, research, and support\n",
      "  Relevance Score: 0.5846\n",
      "____\n",
      "- theme_three: Educator Perceptions of AI Let’s now explore some of the ways in which we might be challenged or concerned when we reflect on how to use, or if to use, GenAI in our teaching, learning and assessment. Meet Ali, a student and Maddi, a lecturer, and learn about their questions and concerns. Ali (Student) : “My lecturer asked my class to prepare group presentations for our assessment. I’ve enjoyed working with the group, but there’s been some issues. The other members of my group saw other groups using Generative AI to design their slides and to generate talking points, so they suggest that we should do the same. I really wasn’t sure if we should. We weren’t told that we shouldn’t but is it the wrong thing to do? We’ve been hearing a lot about academic integrity and I’m not sure if using GenAI is the same as plagiarising. I’ve also heard that it’s not reliable so what if it gives us incorrect information? I insisted that we don’t use it and the rest of the group aren’t very happy with me,\n",
      "  Relevance Score: 0.5718\n",
      "____\n",
      "- theme_one: :Introduction  Hello and welcome to this introductory presentation about generative artificial intelligence (GenAI). While GenAI technologies have existed for many years, recent advances in the field have resulted in the mainstream use of these technologies across society, leading to many opportunities and challenges for universities across the world. Initial institutional responses focused on potential threats to academic integrity, and GenAI has significant implications in this regard. However, it is becoming increasingly evident that these developing technologies also present significant opportunities for teaching, learning and assessment in higher education. Overview  It is essential that as educators, we have a clear understanding of the capabilities of GenAI, and the potential implications of these technologies for how we teach, learn, and assess in higher education. GenAI is dynamic and constantly evolving and participants are advised to bear this in mind as they progress\n",
      "  Relevance Score: 0.5655\n",
      "____\n",
      "- theme_three: the QQI National Academic Integrity Network Guidelines for Educators: Perceptions of GenAI and its Challenges. You can find a link to these guidelines in the Resources section. The activities included in this presentation will prepare you for the live session. GenAI: Media Headlines  Perceptions of, and opinions on GenAI, have been discussed, not just in education, but also in wider society in general. We all probably remember various headlines in the media such as these: • AI is “clear and present danger to education” in The Times • AI threatens ‘significant harm’, admits chatbot boss OPENAI chief urges US senators to regulate artificial intelligence amid risk of catastrophe - The Telegraph • Google shares plunge after its new ChatGPT AI competitor gives wrong answer to question - The Independent • Cleverest chatbot flunks French philosophy exam - The Times • Yes, GenAI could profoundly disrupt education. But maybe that’s not a bad thing - The Guardian Media Headlines Analyses\n",
      "  Relevance Score: 0.5630\n",
      "____\n",
      "- theme_one: thus allowing humans to interact with digital devices as if they were a real person. This model was released in November 2022, and it was the power of ChatGPT that resulted in the public’s awareness of the significance of this emerging technology. Despite all these techniques and their potential, it is worth mentioning that “AI beats humans on some tasks, but not on all. AI has surpassed human performance on several benchmarks, including some in image classification, visual reasoning, and English understanding. Yet it trails behind on more complex tasks like competition-level mathematics, visual commonsense reasoning and planning. What Content Can GenAI Create? 16 GenAI in Teaching and Learning: How to do it Right?  GenAI can produce various types of content such as text, imagery, code, audio and video. To illustrate, the explanation below was generated by Microsoft Copilot, a GenAI tool in response to the prompt “what types of content can GenAI create”: “Generative AI, also known as\n",
      "  Relevance Score: 0.5621\n",
      "____\n"
     ]
    }
   ],
   "source": [
    "query2 = \"when was let's talk genai ran \"\n",
    "\n",
    "query_embedding = model.encode([query2], convert_to_numpy=True).astype(np.float32)\n",
    "\n",
    "\n",
    "k = 5  \n",
    "distances, indices = index.search(query_embedding, k)\n",
    "retrieved_chunks = [chunks[i] for i in indices[0]]\n",
    "\n",
    "print(\"___\")\n",
    "final_indices=matching_indices\n",
    "for i in indices[0]:\n",
    "    final_indices.append(i)\n",
    "print(final_indices)\n",
    "\n",
    "print(\"___\")\n",
    "final_indices2=remove_duplicates(final_indices)\n",
    "\n",
    "print(final_indices2)\n",
    "print(\"Query:\", query)\n",
    "print(\"\\nTop 3 retrieved chunks:\")\n",
    "\n",
    "for i, chunk in enumerate(retrieved_chunks):\n",
    "\n",
    "    relevance_score = 1 / (1 + distances[0][i])  \n",
    "    print(f\"- {chunk}\")\n",
    "    print(f\"  Relevance Score: {relevance_score:.4f}\")  \n",
    "    print(\"____\")"
   ]
  },
  {
   "cell_type": "code",
   "execution_count": null,
   "id": "12f3026e-51e4-41bf-a3ff-fa8d7207f5be",
   "metadata": {},
   "outputs": [],
   "source": []
  }
 ],
 "metadata": {
  "kernelspec": {
   "display_name": "Python 3 (ipykernel)",
   "language": "python",
   "name": "python3"
  },
  "language_info": {
   "codemirror_mode": {
    "name": "ipython",
    "version": 3
   },
   "file_extension": ".py",
   "mimetype": "text/x-python",
   "name": "python",
   "nbconvert_exporter": "python",
   "pygments_lexer": "ipython3",
   "version": "3.9.2"
  }
 },
 "nbformat": 4,
 "nbformat_minor": 5
}
